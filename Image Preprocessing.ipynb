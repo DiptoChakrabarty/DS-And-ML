{
 "cells": [
  {
   "cell_type": "code",
   "execution_count": 4,
   "metadata": {},
   "outputs": [],
   "source": [
    "import numpy as np\n",
    "import pandas as pd\n",
    "import cv2\n",
    "import os\n",
    "import matplotlib.pyplot as plt\n",
    "import math\n",
    "\n",
    "%matplotlib inline"
   ]
  },
  {
   "cell_type": "code",
   "execution_count": 3,
   "metadata": {},
   "outputs": [
    {
     "name": "stderr",
     "output_type": "stream",
     "text": [
      "Using TensorFlow backend.\n"
     ]
    }
   ],
   "source": [
    "from keras.models import Sequential\n",
    "from keras.layers import Conv2D,Input\n",
    "from keras.optimizers import SGD,Adam\n",
    "from skimage.measure import compare_ssim as ssim"
   ]
  },
  {
   "cell_type": "code",
   "execution_count": 5,
   "metadata": {},
   "outputs": [],
   "source": [
    "# Define function to determine peak signal-to-noise ratio\n",
    "\n",
    "def pnsr(target,ref):\n",
    "    \n",
    "    #Convert Data Type of Images\n",
    "    target_data = target.astype(\"float\")\n",
    "    ref_data = ref.astype(\"float\")\n",
    "    \n",
    "    diff = ref_data - target_data\n",
    "    diff=diff.flatten('C')\n",
    "    print(diff)\n",
    "    rmse = math.sqrt(np.mean(diff **2.))\n",
    "    \n",
    "    return 20* math.log10(255. /rmse)"
   ]
  },
  {
   "cell_type": "code",
   "execution_count": 6,
   "metadata": {},
   "outputs": [],
   "source": [
    "# Define function to determine mean squared error\n",
    "\n",
    "def mse(target,ref):\n",
    "    target_data = target.astype(\"float\")\n",
    "    ref_data = ref.astype(\"float\")\n",
    "    \n",
    "    err= np.sum((target_data -ref_data)**2)\n",
    "    err /= float(target.shape[0]*target.shape[1])\n",
    "    \n",
    "    return err\n",
    "    "
   ]
  },
  {
   "cell_type": "code",
   "execution_count": 7,
   "metadata": {},
   "outputs": [],
   "source": [
    "# Function to compare all 3 image quality metrics\n",
    "def compare_images(target,ref):\n",
    "    scores=[]\n",
    "    scores.append(pnsr(target,ref))\n",
    "    scores.append(mse(target,ref))\n",
    "    scores.append(ssim(target,ref,multichannel=True))\n",
    "    \n",
    "    return scores"
   ]
  },
  {
   "cell_type": "code",
   "execution_count": 11,
   "metadata": {},
   "outputs": [],
   "source": [
    "# Prepare Images\n",
    "def prepare_images(path,factor):\n",
    "    \n",
    "    #loop through files\n",
    "    for file in os.listdir(path):\n",
    "        # Open the file\n",
    "        \n",
    "        img=cv2.imread(path+'/'+file)\n",
    "    \n",
    "    #find image dimensions\n",
    "        h,w,c = img.shape\n",
    "        nh= h/factor\n",
    "        nw= w/factor\n",
    "    \n",
    "    # resize image down\n",
    "        img=cv2.resize(img,(nh,nw),interpolation=cv2.INTER_LINEAR)\n",
    "    \n",
    "     # resize image UP\n",
    "        img=cv2.resize(img,(h,w),interpolation=cv2.INTER_LINEAR)\n",
    "    \n",
    "    #save the file\n",
    "    \n",
    "        print(\"Saving {}\".format(file))\n",
    "        cv2.imwrite('images/{}'.format(file),img)\n",
    "    \n",
    "    "
   ]
  },
  {
   "cell_type": "code",
   "execution_count": 12,
   "metadata": {},
   "outputs": [
    {
     "ename": "TypeError",
     "evalue": "integer argument expected, got float",
     "output_type": "error",
     "traceback": [
      "\u001b[1;31m---------------------------------------------------------------------------\u001b[0m",
      "\u001b[1;31mTypeError\u001b[0m                                 Traceback (most recent call last)",
      "\u001b[1;32m<ipython-input-12-65742615594f>\u001b[0m in \u001b[0;36m<module>\u001b[1;34m\u001b[0m\n\u001b[1;32m----> 1\u001b[1;33m \u001b[0mprepare_images\u001b[0m\u001b[1;33m(\u001b[0m\u001b[1;34m'source/'\u001b[0m\u001b[1;33m,\u001b[0m\u001b[1;36m2\u001b[0m\u001b[1;33m)\u001b[0m\u001b[1;33m\u001b[0m\u001b[1;33m\u001b[0m\u001b[0m\n\u001b[0m",
      "\u001b[1;32m<ipython-input-11-4d74406a7af6>\u001b[0m in \u001b[0;36mprepare_images\u001b[1;34m(path, factor)\u001b[0m\n\u001b[0;32m     14\u001b[0m \u001b[1;33m\u001b[0m\u001b[0m\n\u001b[0;32m     15\u001b[0m     \u001b[1;31m# resize image down\u001b[0m\u001b[1;33m\u001b[0m\u001b[1;33m\u001b[0m\u001b[1;33m\u001b[0m\u001b[0m\n\u001b[1;32m---> 16\u001b[1;33m         \u001b[0mimg\u001b[0m\u001b[1;33m=\u001b[0m\u001b[0mcv2\u001b[0m\u001b[1;33m.\u001b[0m\u001b[0mresize\u001b[0m\u001b[1;33m(\u001b[0m\u001b[0mimg\u001b[0m\u001b[1;33m,\u001b[0m\u001b[1;33m(\u001b[0m\u001b[0mnh\u001b[0m\u001b[1;33m,\u001b[0m\u001b[0mnw\u001b[0m\u001b[1;33m)\u001b[0m\u001b[1;33m,\u001b[0m\u001b[0minterpolation\u001b[0m\u001b[1;33m=\u001b[0m\u001b[0mcv2\u001b[0m\u001b[1;33m.\u001b[0m\u001b[0mINTER_LINEAR\u001b[0m\u001b[1;33m)\u001b[0m\u001b[1;33m\u001b[0m\u001b[1;33m\u001b[0m\u001b[0m\n\u001b[0m\u001b[0;32m     17\u001b[0m \u001b[1;33m\u001b[0m\u001b[0m\n\u001b[0;32m     18\u001b[0m      \u001b[1;31m# resize image UP\u001b[0m\u001b[1;33m\u001b[0m\u001b[1;33m\u001b[0m\u001b[1;33m\u001b[0m\u001b[0m\n",
      "\u001b[1;31mTypeError\u001b[0m: integer argument expected, got float"
     ]
    }
   ],
   "source": [
    "prepare_images('source/',2)"
   ]
  },
  {
   "cell_type": "code",
   "execution_count": null,
   "metadata": {},
   "outputs": [],
   "source": []
  },
  {
   "cell_type": "code",
   "execution_count": null,
   "metadata": {},
   "outputs": [],
   "source": []
  },
  {
   "cell_type": "code",
   "execution_count": null,
   "metadata": {},
   "outputs": [],
   "source": []
  },
  {
   "cell_type": "code",
   "execution_count": null,
   "metadata": {},
   "outputs": [],
   "source": []
  }
 ],
 "metadata": {
  "kernelspec": {
   "display_name": "Python 3",
   "language": "python",
   "name": "python3"
  },
  "language_info": {
   "codemirror_mode": {
    "name": "ipython",
    "version": 3
   },
   "file_extension": ".py",
   "mimetype": "text/x-python",
   "name": "python",
   "nbconvert_exporter": "python",
   "pygments_lexer": "ipython3",
   "version": "3.7.3"
  }
 },
 "nbformat": 4,
 "nbformat_minor": 2
}
