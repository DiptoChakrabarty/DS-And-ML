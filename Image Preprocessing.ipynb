{
 "cells": [
  {
   "cell_type": "code",
   "execution_count": 4,
   "metadata": {},
   "outputs": [],
   "source": [
    "import numpy as np\n",
    "import pandas as pd\n",
    "import cv2\n",
    "import os\n",
    "import matplotlib.pyplot as plt\n",
    "import math\n",
    "\n",
    "%matplotlib inline"
   ]
  },
  {
   "cell_type": "code",
   "execution_count": 3,
   "metadata": {},
   "outputs": [
    {
     "name": "stderr",
     "output_type": "stream",
     "text": [
      "Using TensorFlow backend.\n"
     ]
    }
   ],
   "source": [
    "from keras.models import Sequential\n",
    "from keras.layers import Conv2D,Input\n",
    "from keras.optimizers import SGD,Adam\n",
    "from skimage.measure import compare_ssim as ssim"
   ]
  },
  {
   "cell_type": "code",
   "execution_count": 5,
   "metadata": {},
   "outputs": [],
   "source": [
    "# Define function to determine peak signal-to-noise ratio\n",
    "\n",
    "def pnsr(target,ref):\n",
    "    \n",
    "    #Convert Data Type of Images\n",
    "    target_data = target.astype(\"float\")\n",
    "    ref_data = ref.astype(\"float\")\n",
    "    \n",
    "    diff = ref_data - target_data\n",
    "    diff=diff.flatten('C')\n",
    "    print(diff)\n",
    "    rmse = math.sqrt(np.mean(diff **2.))\n",
    "    \n",
    "    return 20* math.log10(255. /rmse)"
   ]
  },
  {
   "cell_type": "code",
   "execution_count": 6,
   "metadata": {},
   "outputs": [],
   "source": [
    "# Define function to determine mean squared error\n",
    "\n",
    "def mse(target,ref):\n",
    "    target_data = target.astype(\"float\")\n",
    "    ref_data = ref.astype(\"float\")\n",
    "    \n",
    "    err= np.sum((target_data -ref_data)**2)\n",
    "    err /= float(target.shape[0]*target.shape[1])\n",
    "    \n",
    "    return err\n",
    "    "
   ]
  },
  {
   "cell_type": "code",
   "execution_count": 7,
   "metadata": {},
   "outputs": [],
   "source": [
    "# Function to compare all 3 image quality metrics\n",
    "def compare_images(target,ref):\n",
    "    scores=[]\n",
    "    scores.append(pnsr(target,ref))\n",
    "    scores.append(mse(target,ref))\n",
    "    scores.append(ssim(target,ref,multichannel=True))\n",
    "    \n",
    "    return scores"
   ]
  },
  {
   "cell_type": "code",
   "execution_count": 13,
   "metadata": {},
   "outputs": [],
   "source": [
    "# Prepare Images\n",
    "def prepare_images(path,factor):\n",
    "    \n",
    "    #loop through files\n",
    "    for file in os.listdir(path):\n",
    "        # Open the file\n",
    "        \n",
    "        img=cv2.imread(path+'/'+file)\n",
    "    \n",
    "    #find image dimensions\n",
    "        h,w,c = img.shape\n",
    "        nh= h//factor\n",
    "        nw= w//factor\n",
    "    \n",
    "    # resize image down\n",
    "        img=cv2.resize(img,(nh,nw),interpolation=cv2.INTER_LINEAR)\n",
    "    \n",
    "     # resize image UP\n",
    "        img=cv2.resize(img,(h,w),interpolation=cv2.INTER_LINEAR)\n",
    "    \n",
    "    #save the file\n",
    "    \n",
    "        print(\"Saving {}\".format(file))\n",
    "        cv2.imwrite('images/{}'.format(file),img)\n",
    "    \n",
    "    "
   ]
  },
  {
   "cell_type": "code",
   "execution_count": 15,
   "metadata": {},
   "outputs": [
    {
     "name": "stdout",
     "output_type": "stream",
     "text": [
      "Saving baboon.bmp\n",
      "Saving baby_GT.bmp\n",
      "Saving barbara.bmp\n",
      "Saving bird_GT.bmp\n",
      "Saving butterfly_GT.bmp\n",
      "Saving coastguard.bmp\n",
      "Saving comic.bmp\n",
      "Saving face.bmp\n",
      "Saving flowers.bmp\n",
      "Saving foreman.bmp\n",
      "Saving head_GT.bmp\n",
      "Saving lenna.bmp\n",
      "Saving monarch.bmp\n",
      "Saving pepper.bmp\n",
      "Saving ppt3.bmp\n",
      "Saving woman_GT.bmp\n",
      "Saving zebra.bmp\n"
     ]
    }
   ],
   "source": [
    "prepare_images('source/',2)"
   ]
  },
  {
   "cell_type": "code",
   "execution_count": null,
   "metadata": {},
   "outputs": [],
   "source": []
  },
  {
   "cell_type": "code",
   "execution_count": null,
   "metadata": {},
   "outputs": [],
   "source": []
  },
  {
   "cell_type": "code",
   "execution_count": null,
   "metadata": {},
   "outputs": [],
   "source": []
  },
  {
   "cell_type": "code",
   "execution_count": null,
   "metadata": {},
   "outputs": [],
   "source": []
  }
 ],
 "metadata": {
  "kernelspec": {
   "display_name": "Python 3",
   "language": "python",
   "name": "python3"
  },
  "language_info": {
   "codemirror_mode": {
    "name": "ipython",
    "version": 3
   },
   "file_extension": ".py",
   "mimetype": "text/x-python",
   "name": "python",
   "nbconvert_exporter": "python",
   "pygments_lexer": "ipython3",
   "version": "3.7.3"
  }
 },
 "nbformat": 4,
 "nbformat_minor": 2
}
