{
 "cells": [
  {
   "cell_type": "code",
   "execution_count": 4,
   "metadata": {},
   "outputs": [],
   "source": [
    "import numpy as np\n",
    "import pandas as pd\n",
    "import cv2\n",
    "import os\n",
    "import matplotlib.pyplot as plt\n",
    "import math\n",
    "\n",
    "%matplotlib inline"
   ]
  },
  {
   "cell_type": "code",
   "execution_count": 3,
   "metadata": {},
   "outputs": [
    {
     "name": "stderr",
     "output_type": "stream",
     "text": [
      "Using TensorFlow backend.\n"
     ]
    }
   ],
   "source": [
    "from keras.models import Sequential\n",
    "from keras.layers import Conv2D,Input\n",
    "from keras.optimizers import SGD,Adam\n",
    "from skimage.measure import compare_ssim as ssim"
   ]
  },
  {
   "cell_type": "code",
   "execution_count": 29,
   "metadata": {},
   "outputs": [],
   "source": [
    "# Define function to determine peak signal-to-noise ratio\n",
    "\n",
    "def pnsr(target,ref):\n",
    "    \n",
    "    #Convert Data Type of Images\n",
    "    target_data = target.astype(float)\n",
    "    ref_data = ref.astype(float)\n",
    "    \n",
    "    diff = ref_data - target_data\n",
    "    diff=diff.flatten('C')\n",
    "    print(diff)\n",
    "    rmse = math.sqrt(np.mean(diff **2.))\n",
    "    \n",
    "    return  20* math.log10(255. /rmse)"
   ]
  },
  {
   "cell_type": "code",
   "execution_count": 30,
   "metadata": {},
   "outputs": [],
   "source": [
    "# Define function to determine mean squared error\n",
    "\n",
    "def mse(target,ref):\n",
    "    target_data = target.astype(float)\n",
    "    ref_data = ref.astype(float)\n",
    "    \n",
    "    err= np.sum((target_data -ref_data)**2)\n",
    "    err /= float(target.shape[0]*target.shape[1])\n",
    "    \n",
    "    return err\n",
    "    "
   ]
  },
  {
   "cell_type": "code",
   "execution_count": 7,
   "metadata": {},
   "outputs": [],
   "source": [
    "# Function to compare all 3 image quality metrics\n",
    "def compare_images(target,ref):\n",
    "    scores=[]\n",
    "    scores.append(pnsr(target,ref))\n",
    "    scores.append(mse(target,ref))\n",
    "    scores.append(ssim(target,ref,multichannel=True))\n",
    "    \n",
    "    return scores"
   ]
  },
  {
   "cell_type": "code",
   "execution_count": 33,
   "metadata": {},
   "outputs": [],
   "source": [
    "# Prepare Images\n",
    "def prepare_images(path,factor):\n",
    "    \n",
    "    #loop through files\n",
    "    for file in os.listdir(path):\n",
    "        # Open the file\n",
    "        \n",
    "        img=cv2.imread(path+'/'+file)\n",
    "    \n",
    "    #find image dimensions\n",
    "        h,w,c = img.shape\n",
    "        nh= h//factor\n",
    "        nw= w//factor\n",
    "    \n",
    "    # resize image down\n",
    "        img=cv2.resize(img,(nw,nh),interpolation=cv2.INTER_LINEAR)\n",
    "    \n",
    "     # resize image UP\n",
    "        img=cv2.resize(img,(w,h),interpolation=cv2.INTER_LINEAR)\n",
    "    \n",
    "    #save the file\n",
    "    \n",
    "        print(\"Saving {}\".format(file))\n",
    "        cv2.imwrite('images/{}'.format(file),img)\n",
    "    \n",
    "    "
   ]
  },
  {
   "cell_type": "code",
   "execution_count": 34,
   "metadata": {},
   "outputs": [
    {
     "name": "stdout",
     "output_type": "stream",
     "text": [
      "Saving baboon.bmp\n",
      "Saving baby_GT.bmp\n",
      "Saving barbara.bmp\n",
      "Saving bird_GT.bmp\n",
      "Saving butterfly_GT.bmp\n",
      "Saving coastguard.bmp\n",
      "Saving comic.bmp\n",
      "Saving face.bmp\n",
      "Saving flowers.bmp\n",
      "Saving foreman.bmp\n",
      "Saving head_GT.bmp\n",
      "Saving lenna.bmp\n",
      "Saving monarch.bmp\n",
      "Saving pepper.bmp\n",
      "Saving ppt3.bmp\n",
      "Saving woman_GT.bmp\n",
      "Saving zebra.bmp\n"
     ]
    }
   ],
   "source": [
    "prepare_images('source/',2)"
   ]
  },
  {
   "cell_type": "code",
   "execution_count": 36,
   "metadata": {},
   "outputs": [
    {
     "name": "stdout",
     "output_type": "stream",
     "text": [
      "[-12. -61. -57. ... -17. -17. -22.]\n",
      "baboon.bmp\n",
      "  PNSR: 22.157084083442548\n",
      "  MSE: 1187.1161333333334\n",
      "  SSIM: 0.629277587900277\n",
      "\n",
      "[0. 0. 0. ... 0. 0. 0.]\n",
      "baby_GT.bmp\n",
      "  PNSR: 34.37180640966199\n",
      "  MSE: 71.28874588012695\n",
      "  SSIM: 0.9356987872724932\n",
      "\n",
      "[1. 0. 0. ... 0. 0. 1.]\n",
      "barbara.bmp\n",
      "  PNSR: 25.906629837568126\n",
      "  MSE: 500.65508535879627\n",
      "  SSIM: 0.8098632646406401\n",
      "\n",
      "[ 1.  1.  0. ... -1.  0.  2.]\n",
      "bird_GT.bmp\n",
      "  PNSR: 32.896644728720005\n",
      "  MSE: 100.12375819830247\n",
      "  SSIM: 0.9533644866026473\n",
      "\n",
      "[ 4. -1. -5. ...  0.  0. -1.]\n",
      "butterfly_GT.bmp\n",
      "  PNSR: 24.782076560337416\n",
      "  MSE: 648.6254119873047\n",
      "  SSIM: 0.8791344763843051\n",
      "\n",
      "[-36. -45. -46. ...   0.  -1.   0.]\n",
      "coastguard.bmp\n",
      "  PNSR: 27.161600663887082\n",
      "  MSE: 375.00887784090907\n",
      "  SSIM: 0.756950063354931\n",
      "\n",
      "[-11. -11. -11. ... -13. -17. -26.]\n",
      "comic.bmp\n",
      "  PNSR: 23.799861502225532\n",
      "  MSE: 813.2338836565096\n",
      "  SSIM: 0.8347335416398209\n",
      "\n",
      "[0. 0. 0. ... 4. 1. 7.]\n",
      "face.bmp\n",
      "  PNSR: 30.99220650287191\n",
      "  MSE: 155.23189718546524\n",
      "  SSIM: 0.8008439492289884\n",
      "\n",
      "[-2. -2. -2. ... -1.  2.  2.]\n",
      "flowers.bmp\n",
      "  PNSR: 27.454504805386147\n",
      "  MSE: 350.55093922651935\n",
      "  SSIM: 0.8697286286974628\n",
      "\n",
      "[-16. -14. -17. ... -56. -83. -91.]\n",
      "foreman.bmp\n",
      "  PNSR: 30.14456532664372\n",
      "  MSE: 188.6883483270202\n",
      "  SSIM: 0.933268417388899\n",
      "\n",
      "[  0.   0.   0. ... -17. -10. -20.]\n",
      "head_GT.bmp\n",
      "  PNSR: 31.020502848237534\n",
      "  MSE: 154.2237755102041\n",
      "  SSIM: 0.8011121330733371\n",
      "\n",
      "[0. 0. 0. ... 0. 0. 2.]\n",
      "lenna.bmp\n",
      "  PNSR: 31.47349297867539\n",
      "  MSE: 138.94800567626953\n",
      "  SSIM: 0.8460989200521499\n",
      "\n",
      "[ -8.  -7. -12. ...  -8.  -7.  -7.]\n",
      "monarch.bmp\n",
      "  PNSR: 30.196242365288896\n",
      "  MSE: 186.45643615722656\n",
      "  SSIM: 0.9439574293434104\n",
      "\n",
      "[-47. -24. -38. ...  11.   6.  13.]\n",
      "pepper.bmp\n",
      "  PNSR: 29.88947161686106\n",
      "  MSE: 200.1033935546875\n",
      "  SSIM: 0.8357937568464359\n",
      "\n",
      "[0. 0. 0. ... 0. 0. 0.]\n",
      "ppt3.bmp\n",
      "  PNSR: 24.84926168950471\n",
      "  MSE: 638.6684263912582\n",
      "  SSIM: 0.9284023942315316\n",
      "\n",
      "[ 0.  0.  0. ... -3. -3. -3.]\n",
      "woman_GT.bmp\n",
      "  PNSR: 29.326236280817465\n",
      "  MSE: 227.812729498164\n",
      "  SSIM: 0.9335397280466592\n",
      "\n",
      "[7. 5. 4. ... 7. 4. 1.]\n",
      "zebra.bmp\n",
      "  PNSR: 27.909840639329513\n",
      "  MSE: 315.6585459528818\n",
      "  SSIM: 0.8911656209329116\n",
      "\n"
     ]
    }
   ],
   "source": [
    "# Testing Image qualities\n",
    "\n",
    "for file in os.listdir('images/'):\n",
    "    # Read the Images\n",
    "    target=cv2.imread('images/{}'.format(file))\n",
    "    ref=cv2.imread('source/{}'.format(file))\n",
    "    \n",
    "    # The Scores\n",
    "    scores=compare_images(target,ref)\n",
    "    \n",
    "    print(\"{}\\n  PNSR: {}\\n  MSE: {}\\n  SSIM: {}\\n\".format(file,scores[0],scores[1],scores[2]))"
   ]
  },
  {
   "cell_type": "code",
   "execution_count": 19,
   "metadata": {},
   "outputs": [
    {
     "name": "stdout",
     "output_type": "stream",
     "text": [
      "baboon.bmp\n",
      "baby_GT.bmp\n",
      "barbara.bmp\n",
      "bird_GT.bmp\n",
      "butterfly_GT.bmp\n",
      "coastguard.bmp\n",
      "comic.bmp\n",
      "face.bmp\n",
      "flowers.bmp\n",
      "foreman.bmp\n",
      "head_GT.bmp\n",
      "lenna.bmp\n",
      "monarch.bmp\n",
      "pepper.bmp\n",
      "ppt3.bmp\n",
      "woman_GT.bmp\n",
      "zebra.bmp\n"
     ]
    }
   ],
   "source": [
    "for file in os.listdir('source/'):\n",
    "    print(file)"
   ]
  },
  {
   "cell_type": "code",
   "execution_count": 27,
   "metadata": {},
   "outputs": [],
   "source": [
    "it=cv2.imread(\"images/zebra.bmp\")"
   ]
  },
  {
   "cell_type": "code",
   "execution_count": 28,
   "metadata": {},
   "outputs": [],
   "source": [
    "cv2.imshow(\"1\",it)\n",
    "cv2.waitKey()\n",
    "cv2.destroyAllWindows()"
   ]
  },
  {
   "cell_type": "code",
   "execution_count": 37,
   "metadata": {},
   "outputs": [],
   "source": [
    "def model():\n",
    "    SRCNN= Sequential()\n",
    "    #add layers\n",
    "    SRCNN.add(Conv2D(filters=128, kernel_size=(9,9),kernel_initializer='glorot_uniform',activation='relu',padding='valid',\n",
    "                     use_bias=True, input_shape=(None,None,1)))\n",
    "    SRCNN.add(Conv2D(filters=64, kernel_size=(3,3),kernel_initializer='glorot_uniform',activation='relu',padding='same',\n",
    "                     use_bias=True, input_shape=(None,None,1)))\n",
    "    SRCNN.add(Conv2D(filters=1, kernel_size=(5,5),kernel_initializer='glorot_uniform',activation='linear',padding='valid',\n",
    "                     use_bias=True, input_shape=(None,None,1)))\n",
    "    # define optimizer\n",
    "    adam = Adam(lr=0.003)\n",
    "    \n",
    "    #Compile Model\n",
    "    SRCNN.compile(optimizer=adam,loss='mean_squared_error',metrics=['mean_squared_error'])\n",
    "    \n",
    "    return SRCNN\n",
    "    \n",
    "    "
   ]
  },
  {
   "cell_type": "code",
   "execution_count": null,
   "metadata": {},
   "outputs": [],
   "source": []
  }
 ],
 "metadata": {
  "kernelspec": {
   "display_name": "Python 3",
   "language": "python",
   "name": "python3"
  },
  "language_info": {
   "codemirror_mode": {
    "name": "ipython",
    "version": 3
   },
   "file_extension": ".py",
   "mimetype": "text/x-python",
   "name": "python",
   "nbconvert_exporter": "python",
   "pygments_lexer": "ipython3",
   "version": "3.7.3"
  }
 },
 "nbformat": 4,
 "nbformat_minor": 2
}
