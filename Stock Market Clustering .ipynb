{
 "cells": [
  {
   "cell_type": "code",
   "execution_count": 6,
   "metadata": {},
   "outputs": [],
   "source": [
    "import pandas as pd\n",
    "import numpy as np\n",
    "import matplotlib.pyplot as plt\n",
    "import seaborn as sns\n",
    "from pandas_datareader import data"
   ]
  },
  {
   "cell_type": "code",
   "execution_count": 19,
   "metadata": {},
   "outputs": [
    {
     "name": "stdout",
     "output_type": "stream",
     "text": [
      "[('Apple', 'AAPL'), ('Amazon', 'AMZN'), ('American Express', 'AXP'), ('Boeing', 'BA'), ('Bank of America', 'BAC'), ('Chevron', 'CVX'), ('Ford', 'F'), ('Honda', 'HMC'), ('IBM', 'IBM'), ('Intel', 'INTC'), ('Johnson & Johnson', 'JNJ'), ('Coca Cola', 'KO'), ('Lockhead Martin', 'LMT'), ('MasterCard', 'MA'), ('McDonalds', 'MCD'), ('Microsoft', 'MSFT'), ('Northrop Grumman', 'NOC'), ('Pepsi', 'PEP'), ('Sony', 'SNE'), ('Toyota', 'TM'), ('Texas Instruments', 'TXN'), ('Walgreen', 'WBA'), ('Exxon', 'XOM')]\n"
     ]
    }
   ],
   "source": [
    "companies_dict={\n",
    "    'Amazon': 'AMZN',\n",
    "    'Apple': 'AAPL',\n",
    "    'Walgreen': 'WBA',\n",
    "    'Northrop Grumman': 'NOC',\n",
    "    'Boeing': 'BA',\n",
    "    'Lockhead Martin': 'LMT',\n",
    "    'McDonalds': 'MCD',\n",
    "    'Intel': 'INTC',\n",
    "    'IBM': 'IBM',\n",
    "    'Texas Instruments':'TXN',\n",
    "    'MasterCard': 'MA',\n",
    "    'Microsoft': 'MSFT',\n",
    "    'American Express': 'AXP',\n",
    "    'Pepsi': 'PEP',\n",
    "    'Coca Cola': 'KO',\n",
    "    'Johnson & Johnson': 'JNJ',\n",
    "    'Toyota': 'TM',\n",
    "    'Honda': 'HMC',\n",
    "    'Sony': 'SNE',\n",
    "    'Exxon': 'XOM',\n",
    "    'Chevron': 'CVX',\n",
    "    'Ford': 'F',\n",
    "    'Bank of America': 'BAC'\n",
    "}\n",
    "companies =sorted(companies_dict.items(),key=lambda x: x[1])\n",
    "print(companies)"
   ]
  },
  {
   "cell_type": "code",
   "execution_count": 20,
   "metadata": {},
   "outputs": [
    {
     "name": "stdout",
     "output_type": "stream",
     "text": [
      "[DatetimeIndex(['2015-12-31', '2016-01-04', '2016-01-05', '2016-01-06',\n",
      "               '2016-01-07', '2016-01-08', '2016-01-11', '2016-01-12',\n",
      "               '2016-01-13', '2016-01-14',\n",
      "               ...\n",
      "               '2018-12-17', '2018-12-18', '2018-12-19', '2018-12-20',\n",
      "               '2018-12-21', '2018-12-24', '2018-12-26', '2018-12-27',\n",
      "               '2018-12-28', '2018-12-31'],\n",
      "              dtype='datetime64[ns]', name='Date', length=755, freq=None), MultiIndex(levels=[['High', 'Low', 'Open', 'Close', 'Volume', 'Adj Close'], ['AAPL', 'AMZN', 'AXP', 'BA', 'BAC', 'CVX', 'F', 'HMC', 'IBM', 'INTC', 'JNJ', 'KO', 'LMT', 'MA', 'MCD', 'MSFT', 'NOC', 'PEP', 'SNE', 'TM', 'TXN', 'WBA', 'XOM']],\n",
      "           codes=[[0, 0, 0, 0, 0, 0, 0, 0, 0, 0, 0, 0, 0, 0, 0, 0, 0, 0, 0, 0, 0, 0, 0, 1, 1, 1, 1, 1, 1, 1, 1, 1, 1, 1, 1, 1, 1, 1, 1, 1, 1, 1, 1, 1, 1, 1, 2, 2, 2, 2, 2, 2, 2, 2, 2, 2, 2, 2, 2, 2, 2, 2, 2, 2, 2, 2, 2, 2, 2, 3, 3, 3, 3, 3, 3, 3, 3, 3, 3, 3, 3, 3, 3, 3, 3, 3, 3, 3, 3, 3, 3, 3, 4, 4, 4, 4, 4, 4, 4, 4, 4, 4, 4, 4, 4, 4, 4, 4, 4, 4, 4, 4, 4, 4, 4, 5, 5, 5, 5, 5, 5, 5, 5, 5, 5, 5, 5, 5, 5, 5, 5, 5, 5, 5, 5, 5, 5, 5], [0, 1, 2, 3, 4, 5, 6, 7, 8, 9, 10, 11, 12, 13, 14, 15, 16, 17, 18, 19, 20, 21, 22, 0, 1, 2, 3, 4, 5, 6, 7, 8, 9, 10, 11, 12, 13, 14, 15, 16, 17, 18, 19, 20, 21, 22, 0, 1, 2, 3, 4, 5, 6, 7, 8, 9, 10, 11, 12, 13, 14, 15, 16, 17, 18, 19, 20, 21, 22, 0, 1, 2, 3, 4, 5, 6, 7, 8, 9, 10, 11, 12, 13, 14, 15, 16, 17, 18, 19, 20, 21, 22, 0, 1, 2, 3, 4, 5, 6, 7, 8, 9, 10, 11, 12, 13, 14, 15, 16, 17, 18, 19, 20, 21, 22, 0, 1, 2, 3, 4, 5, 6, 7, 8, 9, 10, 11, 12, 13, 14, 15, 16, 17, 18, 19, 20, 21, 22]],\n",
      "           names=['Attributes', 'Symbols'])]\n"
     ]
    }
   ],
   "source": [
    "# Specify Data Source \n",
    "data_source= 'yahoo'\n",
    "# Date Requirements\n",
    "start_date= '2016-01-01'\n",
    "end_date= '2018-12-31'\n",
    "# Python3 doe\n",
    "company_data= data.DataReader(list(companies_dict.values()),data_source,start_date,end_date)\n",
    "# Check DataSet\n",
    "print(company_data.axes)"
   ]
  },
  {
   "cell_type": "code",
   "execution_count": 14,
   "metadata": {},
   "outputs": [
    {
     "data": {
      "text/plain": [
       "dict_values(['AMZN', 'AAPL', 'WBA', 'NOC', 'BA', 'LMT', 'MCD', 'INTC', 'IBM', 'TXN', 'MA', 'MSFT', 'AXP', 'PEP', 'KO', 'JNJ', 'TM', 'HMC', 'SNE', 'XOM', 'CVX', 'F', 'BAC'])"
      ]
     },
     "execution_count": 14,
     "metadata": {},
     "output_type": "execute_result"
    }
   ],
   "source": [
    "companies_dict.values()"
   ]
  },
  {
   "cell_type": "code",
   "execution_count": null,
   "metadata": {},
   "outputs": [],
   "source": []
  }
 ],
 "metadata": {
  "kernelspec": {
   "display_name": "Python 3",
   "language": "python",
   "name": "python3"
  },
  "language_info": {
   "codemirror_mode": {
    "name": "ipython",
    "version": 3
   },
   "file_extension": ".py",
   "mimetype": "text/x-python",
   "name": "python",
   "nbconvert_exporter": "python",
   "pygments_lexer": "ipython3",
   "version": "3.7.3"
  }
 },
 "nbformat": 4,
 "nbformat_minor": 2
}
