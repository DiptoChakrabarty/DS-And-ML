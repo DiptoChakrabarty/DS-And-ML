{
 "cells": [
  {
   "cell_type": "code",
   "execution_count": 6,
   "metadata": {},
   "outputs": [],
   "source": [
    "import pandas as pd\n",
    "import numpy as np\n",
    "import matplotlib.pyplot as plt\n",
    "import seaborn as sns\n",
    "from pandas_datareader import data"
   ]
  },
  {
   "cell_type": "code",
   "execution_count": 41,
   "metadata": {},
   "outputs": [],
   "source": [
    "from sklearn.preprocessing import Normalizer"
   ]
  },
  {
   "cell_type": "code",
   "execution_count": 19,
   "metadata": {},
   "outputs": [
    {
     "name": "stdout",
     "output_type": "stream",
     "text": [
      "[('Apple', 'AAPL'), ('Amazon', 'AMZN'), ('American Express', 'AXP'), ('Boeing', 'BA'), ('Bank of America', 'BAC'), ('Chevron', 'CVX'), ('Ford', 'F'), ('Honda', 'HMC'), ('IBM', 'IBM'), ('Intel', 'INTC'), ('Johnson & Johnson', 'JNJ'), ('Coca Cola', 'KO'), ('Lockhead Martin', 'LMT'), ('MasterCard', 'MA'), ('McDonalds', 'MCD'), ('Microsoft', 'MSFT'), ('Northrop Grumman', 'NOC'), ('Pepsi', 'PEP'), ('Sony', 'SNE'), ('Toyota', 'TM'), ('Texas Instruments', 'TXN'), ('Walgreen', 'WBA'), ('Exxon', 'XOM')]\n"
     ]
    }
   ],
   "source": [
    "companies_dict={\n",
    "    'Amazon': 'AMZN',\n",
    "    'Apple': 'AAPL',\n",
    "    'Walgreen': 'WBA',\n",
    "    'Northrop Grumman': 'NOC',\n",
    "    'Boeing': 'BA',\n",
    "    'Lockhead Martin': 'LMT',\n",
    "    'McDonalds': 'MCD',\n",
    "    'Intel': 'INTC',\n",
    "    'IBM': 'IBM',\n",
    "    'Texas Instruments':'TXN',\n",
    "    'MasterCard': 'MA',\n",
    "    'Microsoft': 'MSFT',\n",
    "    'American Express': 'AXP',\n",
    "    'Pepsi': 'PEP',\n",
    "    'Coca Cola': 'KO',\n",
    "    'Johnson & Johnson': 'JNJ',\n",
    "    'Toyota': 'TM',\n",
    "    'Honda': 'HMC',\n",
    "    'Sony': 'SNE',\n",
    "    'Exxon': 'XOM',\n",
    "    'Chevron': 'CVX',\n",
    "    'Ford': 'F',\n",
    "    'Bank of America': 'BAC'\n",
    "}\n",
    "companies =sorted(companies_dict.items(),key=lambda x: x[1])\n",
    "print(companies)"
   ]
  },
  {
   "cell_type": "markdown",
   "metadata": {},
   "source": [
    "# Loading Dataset"
   ]
  },
  {
   "cell_type": "code",
   "execution_count": 20,
   "metadata": {},
   "outputs": [
    {
     "name": "stdout",
     "output_type": "stream",
     "text": [
      "[DatetimeIndex(['2015-12-31', '2016-01-04', '2016-01-05', '2016-01-06',\n",
      "               '2016-01-07', '2016-01-08', '2016-01-11', '2016-01-12',\n",
      "               '2016-01-13', '2016-01-14',\n",
      "               ...\n",
      "               '2018-12-17', '2018-12-18', '2018-12-19', '2018-12-20',\n",
      "               '2018-12-21', '2018-12-24', '2018-12-26', '2018-12-27',\n",
      "               '2018-12-28', '2018-12-31'],\n",
      "              dtype='datetime64[ns]', name='Date', length=755, freq=None), MultiIndex(levels=[['High', 'Low', 'Open', 'Close', 'Volume', 'Adj Close'], ['AAPL', 'AMZN', 'AXP', 'BA', 'BAC', 'CVX', 'F', 'HMC', 'IBM', 'INTC', 'JNJ', 'KO', 'LMT', 'MA', 'MCD', 'MSFT', 'NOC', 'PEP', 'SNE', 'TM', 'TXN', 'WBA', 'XOM']],\n",
      "           codes=[[0, 0, 0, 0, 0, 0, 0, 0, 0, 0, 0, 0, 0, 0, 0, 0, 0, 0, 0, 0, 0, 0, 0, 1, 1, 1, 1, 1, 1, 1, 1, 1, 1, 1, 1, 1, 1, 1, 1, 1, 1, 1, 1, 1, 1, 1, 2, 2, 2, 2, 2, 2, 2, 2, 2, 2, 2, 2, 2, 2, 2, 2, 2, 2, 2, 2, 2, 2, 2, 3, 3, 3, 3, 3, 3, 3, 3, 3, 3, 3, 3, 3, 3, 3, 3, 3, 3, 3, 3, 3, 3, 3, 4, 4, 4, 4, 4, 4, 4, 4, 4, 4, 4, 4, 4, 4, 4, 4, 4, 4, 4, 4, 4, 4, 4, 5, 5, 5, 5, 5, 5, 5, 5, 5, 5, 5, 5, 5, 5, 5, 5, 5, 5, 5, 5, 5, 5, 5], [0, 1, 2, 3, 4, 5, 6, 7, 8, 9, 10, 11, 12, 13, 14, 15, 16, 17, 18, 19, 20, 21, 22, 0, 1, 2, 3, 4, 5, 6, 7, 8, 9, 10, 11, 12, 13, 14, 15, 16, 17, 18, 19, 20, 21, 22, 0, 1, 2, 3, 4, 5, 6, 7, 8, 9, 10, 11, 12, 13, 14, 15, 16, 17, 18, 19, 20, 21, 22, 0, 1, 2, 3, 4, 5, 6, 7, 8, 9, 10, 11, 12, 13, 14, 15, 16, 17, 18, 19, 20, 21, 22, 0, 1, 2, 3, 4, 5, 6, 7, 8, 9, 10, 11, 12, 13, 14, 15, 16, 17, 18, 19, 20, 21, 22, 0, 1, 2, 3, 4, 5, 6, 7, 8, 9, 10, 11, 12, 13, 14, 15, 16, 17, 18, 19, 20, 21, 22]],\n",
      "           names=['Attributes', 'Symbols'])]\n"
     ]
    }
   ],
   "source": [
    "# Specify Data Source \n",
    "data_source= 'yahoo'\n",
    "# Date Requirements\n",
    "start_date= '2016-01-01'\n",
    "end_date= '2018-12-31'\n",
    "# Python3 does not give list for dict values so convert to list\n",
    "company_data= data.DataReader(list(companies_dict.values()),data_source,start_date,end_date)\n",
    "# Check DataSet\n",
    "print(company_data.axes)"
   ]
  },
  {
   "cell_type": "code",
   "execution_count": 27,
   "metadata": {},
   "outputs": [
    {
     "name": "stdout",
     "output_type": "stream",
     "text": [
      "Symbols\n",
      "AAPL    105.349998\n",
      "AMZN    636.989990\n",
      "AXP      67.589996\n",
      "BA      140.500000\n",
      "BAC      16.430000\n",
      "CVX      88.849998\n",
      "F        13.970000\n",
      "HMC      30.990000\n",
      "IBM     135.949997\n",
      "INTC     33.990002\n",
      "JNJ     100.480003\n",
      "KO       42.400002\n",
      "LMT     213.210007\n",
      "MA       94.809998\n",
      "MCD     117.580002\n",
      "MSFT     54.799999\n",
      "NOC     187.509995\n",
      "PEP      98.769997\n",
      "SNE      24.730000\n",
      "TM      121.459999\n",
      "TXN      54.340000\n",
      "WBA      83.050003\n",
      "XOM      77.459999\n",
      "Name: 2016-01-04 00:00:00, dtype: float64\n"
     ]
    }
   ],
   "source": [
    "stock_close=company_data.loc[:,'Close']\n",
    "stock_open=company_data.loc[:,'Open']\n",
    "\n",
    "print(stock_close.iloc[1])"
   ]
  },
  {
   "cell_type": "code",
   "execution_count": 23,
   "metadata": {},
   "outputs": [
    {
     "data": {
      "text/html": [
       "<div>\n",
       "<style scoped>\n",
       "    .dataframe tbody tr th:only-of-type {\n",
       "        vertical-align: middle;\n",
       "    }\n",
       "\n",
       "    .dataframe tbody tr th {\n",
       "        vertical-align: top;\n",
       "    }\n",
       "\n",
       "    .dataframe thead tr th {\n",
       "        text-align: left;\n",
       "    }\n",
       "\n",
       "    .dataframe thead tr:last-of-type th {\n",
       "        text-align: right;\n",
       "    }\n",
       "</style>\n",
       "<table border=\"1\" class=\"dataframe\">\n",
       "  <thead>\n",
       "    <tr>\n",
       "      <th>Attributes</th>\n",
       "      <th colspan=\"10\" halign=\"left\">High</th>\n",
       "      <th>...</th>\n",
       "      <th colspan=\"10\" halign=\"left\">Adj Close</th>\n",
       "    </tr>\n",
       "    <tr>\n",
       "      <th>Symbols</th>\n",
       "      <th>AAPL</th>\n",
       "      <th>AMZN</th>\n",
       "      <th>AXP</th>\n",
       "      <th>BA</th>\n",
       "      <th>BAC</th>\n",
       "      <th>CVX</th>\n",
       "      <th>F</th>\n",
       "      <th>HMC</th>\n",
       "      <th>IBM</th>\n",
       "      <th>INTC</th>\n",
       "      <th>...</th>\n",
       "      <th>MA</th>\n",
       "      <th>MCD</th>\n",
       "      <th>MSFT</th>\n",
       "      <th>NOC</th>\n",
       "      <th>PEP</th>\n",
       "      <th>SNE</th>\n",
       "      <th>TM</th>\n",
       "      <th>TXN</th>\n",
       "      <th>WBA</th>\n",
       "      <th>XOM</th>\n",
       "    </tr>\n",
       "    <tr>\n",
       "      <th>Date</th>\n",
       "      <th></th>\n",
       "      <th></th>\n",
       "      <th></th>\n",
       "      <th></th>\n",
       "      <th></th>\n",
       "      <th></th>\n",
       "      <th></th>\n",
       "      <th></th>\n",
       "      <th></th>\n",
       "      <th></th>\n",
       "      <th></th>\n",
       "      <th></th>\n",
       "      <th></th>\n",
       "      <th></th>\n",
       "      <th></th>\n",
       "      <th></th>\n",
       "      <th></th>\n",
       "      <th></th>\n",
       "      <th></th>\n",
       "      <th></th>\n",
       "      <th></th>\n",
       "    </tr>\n",
       "  </thead>\n",
       "  <tbody>\n",
       "    <tr>\n",
       "      <th>2015-12-31</th>\n",
       "      <td>107.029999</td>\n",
       "      <td>687.750000</td>\n",
       "      <td>70.320000</td>\n",
       "      <td>145.960007</td>\n",
       "      <td>17.070000</td>\n",
       "      <td>90.860001</td>\n",
       "      <td>14.16</td>\n",
       "      <td>32.040001</td>\n",
       "      <td>139.100006</td>\n",
       "      <td>34.959999</td>\n",
       "      <td>...</td>\n",
       "      <td>94.936478</td>\n",
       "      <td>107.648849</td>\n",
       "      <td>51.508644</td>\n",
       "      <td>178.746628</td>\n",
       "      <td>89.994385</td>\n",
       "      <td>24.088648</td>\n",
       "      <td>109.467026</td>\n",
       "      <td>50.026730</td>\n",
       "      <td>78.906517</td>\n",
       "      <td>68.098228</td>\n",
       "    </tr>\n",
       "    <tr>\n",
       "      <th>2016-01-04</th>\n",
       "      <td>105.370003</td>\n",
       "      <td>657.719971</td>\n",
       "      <td>68.180000</td>\n",
       "      <td>141.699997</td>\n",
       "      <td>16.490000</td>\n",
       "      <td>90.110001</td>\n",
       "      <td>14.00</td>\n",
       "      <td>31.000000</td>\n",
       "      <td>135.970001</td>\n",
       "      <td>34.009998</td>\n",
       "      <td>...</td>\n",
       "      <td>92.449959</td>\n",
       "      <td>107.138596</td>\n",
       "      <td>50.877312</td>\n",
       "      <td>177.515930</td>\n",
       "      <td>88.958611</td>\n",
       "      <td>24.206104</td>\n",
       "      <td>108.061302</td>\n",
       "      <td>49.597740</td>\n",
       "      <td>76.951469</td>\n",
       "      <td>67.670151</td>\n",
       "    </tr>\n",
       "    <tr>\n",
       "      <th>2016-01-05</th>\n",
       "      <td>105.849998</td>\n",
       "      <td>646.909973</td>\n",
       "      <td>67.709999</td>\n",
       "      <td>141.699997</td>\n",
       "      <td>16.590000</td>\n",
       "      <td>89.650002</td>\n",
       "      <td>14.00</td>\n",
       "      <td>30.910000</td>\n",
       "      <td>136.889999</td>\n",
       "      <td>34.000000</td>\n",
       "      <td>...</td>\n",
       "      <td>92.625473</td>\n",
       "      <td>108.614723</td>\n",
       "      <td>51.109421</td>\n",
       "      <td>182.135834</td>\n",
       "      <td>89.571060</td>\n",
       "      <td>24.930429</td>\n",
       "      <td>107.776604</td>\n",
       "      <td>49.077492</td>\n",
       "      <td>74.931557</td>\n",
       "      <td>68.246742</td>\n",
       "    </tr>\n",
       "    <tr>\n",
       "      <th>2016-01-06</th>\n",
       "      <td>102.370003</td>\n",
       "      <td>639.789978</td>\n",
       "      <td>65.550003</td>\n",
       "      <td>139.350006</td>\n",
       "      <td>16.290001</td>\n",
       "      <td>87.779999</td>\n",
       "      <td>13.56</td>\n",
       "      <td>30.410000</td>\n",
       "      <td>135.580002</td>\n",
       "      <td>33.520000</td>\n",
       "      <td>...</td>\n",
       "      <td>91.208740</td>\n",
       "      <td>107.885765</td>\n",
       "      <td>50.181000</td>\n",
       "      <td>180.318146</td>\n",
       "      <td>89.598106</td>\n",
       "      <td>23.129404</td>\n",
       "      <td>105.321075</td>\n",
       "      <td>48.758034</td>\n",
       "      <td>73.782600</td>\n",
       "      <td>67.678894</td>\n",
       "    </tr>\n",
       "    <tr>\n",
       "      <th>2016-01-07</th>\n",
       "      <td>100.129997</td>\n",
       "      <td>630.000000</td>\n",
       "      <td>64.250000</td>\n",
       "      <td>136.669998</td>\n",
       "      <td>15.900000</td>\n",
       "      <td>85.750000</td>\n",
       "      <td>13.04</td>\n",
       "      <td>29.860001</td>\n",
       "      <td>135.020004</td>\n",
       "      <td>33.009998</td>\n",
       "      <td>...</td>\n",
       "      <td>89.537971</td>\n",
       "      <td>105.389091</td>\n",
       "      <td>48.435574</td>\n",
       "      <td>178.083923</td>\n",
       "      <td>87.877815</td>\n",
       "      <td>22.777035</td>\n",
       "      <td>102.821060</td>\n",
       "      <td>47.188137</td>\n",
       "      <td>75.209511</td>\n",
       "      <td>66.595612</td>\n",
       "    </tr>\n",
       "  </tbody>\n",
       "</table>\n",
       "<p>5 rows × 138 columns</p>\n",
       "</div>"
      ],
      "text/plain": [
       "Attributes        High                                                \\\n",
       "Symbols           AAPL        AMZN        AXP          BA        BAC   \n",
       "Date                                                                   \n",
       "2015-12-31  107.029999  687.750000  70.320000  145.960007  17.070000   \n",
       "2016-01-04  105.370003  657.719971  68.180000  141.699997  16.490000   \n",
       "2016-01-05  105.849998  646.909973  67.709999  141.699997  16.590000   \n",
       "2016-01-06  102.370003  639.789978  65.550003  139.350006  16.290001   \n",
       "2016-01-07  100.129997  630.000000  64.250000  136.669998  15.900000   \n",
       "\n",
       "Attributes                                                      ...  \\\n",
       "Symbols           CVX      F        HMC         IBM       INTC  ...   \n",
       "Date                                                            ...   \n",
       "2015-12-31  90.860001  14.16  32.040001  139.100006  34.959999  ...   \n",
       "2016-01-04  90.110001  14.00  31.000000  135.970001  34.009998  ...   \n",
       "2016-01-05  89.650002  14.00  30.910000  136.889999  34.000000  ...   \n",
       "2016-01-06  87.779999  13.56  30.410000  135.580002  33.520000  ...   \n",
       "2016-01-07  85.750000  13.04  29.860001  135.020004  33.009998  ...   \n",
       "\n",
       "Attributes  Adj Close                                                \\\n",
       "Symbols            MA         MCD       MSFT         NOC        PEP   \n",
       "Date                                                                  \n",
       "2015-12-31  94.936478  107.648849  51.508644  178.746628  89.994385   \n",
       "2016-01-04  92.449959  107.138596  50.877312  177.515930  88.958611   \n",
       "2016-01-05  92.625473  108.614723  51.109421  182.135834  89.571060   \n",
       "2016-01-06  91.208740  107.885765  50.181000  180.318146  89.598106   \n",
       "2016-01-07  89.537971  105.389091  48.435574  178.083923  87.877815   \n",
       "\n",
       "Attributes                                                          \n",
       "Symbols           SNE          TM        TXN        WBA        XOM  \n",
       "Date                                                                \n",
       "2015-12-31  24.088648  109.467026  50.026730  78.906517  68.098228  \n",
       "2016-01-04  24.206104  108.061302  49.597740  76.951469  67.670151  \n",
       "2016-01-05  24.930429  107.776604  49.077492  74.931557  68.246742  \n",
       "2016-01-06  23.129404  105.321075  48.758034  73.782600  67.678894  \n",
       "2016-01-07  22.777035  102.821060  47.188137  75.209511  66.595612  \n",
       "\n",
       "[5 rows x 138 columns]"
      ]
     },
     "execution_count": 23,
     "metadata": {},
     "output_type": "execute_result"
    }
   ],
   "source": [
    "company_data.head()"
   ]
  },
  {
   "cell_type": "code",
   "execution_count": 25,
   "metadata": {},
   "outputs": [
    {
     "name": "stdout",
     "output_type": "stream",
     "text": [
      "Shape of Dataset : (755, 138)\n",
      "Data Columns:  MultiIndex(levels=[['High', 'Low', 'Open', 'Close', 'Volume', 'Adj Close'], ['AAPL', 'AMZN', 'AXP', 'BA', 'BAC', 'CVX', 'F', 'HMC', 'IBM', 'INTC', 'JNJ', 'KO', 'LMT', 'MA', 'MCD', 'MSFT', 'NOC', 'PEP', 'SNE', 'TM', 'TXN', 'WBA', 'XOM']],\n",
      "           codes=[[0, 0, 0, 0, 0, 0, 0, 0, 0, 0, 0, 0, 0, 0, 0, 0, 0, 0, 0, 0, 0, 0, 0, 1, 1, 1, 1, 1, 1, 1, 1, 1, 1, 1, 1, 1, 1, 1, 1, 1, 1, 1, 1, 1, 1, 1, 2, 2, 2, 2, 2, 2, 2, 2, 2, 2, 2, 2, 2, 2, 2, 2, 2, 2, 2, 2, 2, 2, 2, 3, 3, 3, 3, 3, 3, 3, 3, 3, 3, 3, 3, 3, 3, 3, 3, 3, 3, 3, 3, 3, 3, 3, 4, 4, 4, 4, 4, 4, 4, 4, 4, 4, 4, 4, 4, 4, 4, 4, 4, 4, 4, 4, 4, 4, 4, 5, 5, 5, 5, 5, 5, 5, 5, 5, 5, 5, 5, 5, 5, 5, 5, 5, 5, 5, 5, 5, 5, 5], [0, 1, 2, 3, 4, 5, 6, 7, 8, 9, 10, 11, 12, 13, 14, 15, 16, 17, 18, 19, 20, 21, 22, 0, 1, 2, 3, 4, 5, 6, 7, 8, 9, 10, 11, 12, 13, 14, 15, 16, 17, 18, 19, 20, 21, 22, 0, 1, 2, 3, 4, 5, 6, 7, 8, 9, 10, 11, 12, 13, 14, 15, 16, 17, 18, 19, 20, 21, 22, 0, 1, 2, 3, 4, 5, 6, 7, 8, 9, 10, 11, 12, 13, 14, 15, 16, 17, 18, 19, 20, 21, 22, 0, 1, 2, 3, 4, 5, 6, 7, 8, 9, 10, 11, 12, 13, 14, 15, 16, 17, 18, 19, 20, 21, 22, 0, 1, 2, 3, 4, 5, 6, 7, 8, 9, 10, 11, 12, 13, 14, 15, 16, 17, 18, 19, 20, 21, 22]],\n",
      "           names=['Attributes', 'Symbols'])\n"
     ]
    }
   ],
   "source": [
    "print(\"Shape of Dataset :\",company_data.shape)\n",
    "print(\"Data Columns: \",company_data.columns)"
   ]
  },
  {
   "cell_type": "markdown",
   "metadata": {},
   "source": [
    "# Changing the dataset shape"
   ]
  },
  {
   "cell_type": "code",
   "execution_count": 28,
   "metadata": {},
   "outputs": [
    {
     "name": "stdout",
     "output_type": "stream",
     "text": [
      "23 755\n"
     ]
    }
   ],
   "source": [
    "stock_close=np.array(stock_close).T\n",
    "stock_open=np.array(stock_open).T\n",
    "\n",
    "row,col=stock_close.shape\n",
    "\n",
    "print(row,col)"
   ]
  },
  {
   "cell_type": "code",
   "execution_count": 36,
   "metadata": {},
   "outputs": [
    {
     "name": "stdout",
     "output_type": "stream",
     "text": [
      "Company: Apple ,Change: 34.589988708496094 \n",
      "Company: Amazon ,Change: -685.2602844238281 \n",
      "Company: American Express ,Change: -7.5198822021484375 \n",
      "Company: Boeing ,Change: 37.61009979248047 \n",
      "Company: Bank of America ,Change: -7.430019378662109 \n",
      "Company: Chevron ,Change: -2.1298904418945312 \n",
      "Company: Ford ,Change: -8.749997615814209 \n",
      "Company: Honda ,Change: -11.719999313354492 \n",
      "Company: IBM ,Change: -17.6898193359375 \n",
      "Company: Intel ,Change: 7.250059127807617 \n",
      "Company: Johnson & Johnson ,Change: 25.799957275390625 \n",
      "Company: Coca Cola ,Change: 9.489974975585938 \n",
      "Company: Lockhead Martin ,Change: -88.29994201660156 \n",
      "Company: MasterCard ,Change: 21.919937133789062 \n",
      "Company: McDonalds ,Change: 15.179901123046875 \n",
      "Company: Microsoft ,Change: -8.02004623413086 \n",
      "Company: Northrop Grumman ,Change: -43.060211181640625 \n",
      "Company: Pepsi ,Change: 19.53003692626953 \n",
      "Company: Sony ,Change: -9.890050888061523 \n",
      "Company: Toyota ,Change: -33.139991760253906 \n",
      "Company: Texas Instruments ,Change: 20.74999237060547 \n",
      "Company: Walgreen ,Change: -7.609989166259766 \n",
      "Company: Exxon ,Change: 3.8199005126953125 \n"
     ]
    }
   ],
   "source": [
    "movements= np.zeros([row,col])\n",
    "\n",
    "for i in range(row):\n",
    "    movements[i,:]=np.subtract(stock_close[i,:],stock_open[i,:])\n",
    "    \n",
    "for i in range(len(companies)):\n",
    "    print(\"Company: {} ,Change: {} \".format(companies[i][0],sum(movements[i][:])))"
   ]
  },
  {
   "cell_type": "code",
   "execution_count": 40,
   "metadata": {},
   "outputs": [
    {
     "data": {
      "image/png": "[encoded data removed]",
      "text/plain": [
       "<Figure size 1296x1152 with 2 Axes>"
      ]
     },
     "metadata": {
      "needs_background": "light"
     },
     "output_type": "display_data"
    }
   ],
   "source": [
    "plt.figure(figsize=(18,16))\n",
    "ax1=plt.subplot(221)\n",
    "plt.plot(movements[0][:])\n",
    "plt.title(companies[0])\n",
    "\n",
    "plt.subplot(222,sharey=ax1)\n",
    "plt.plot(movements[1][:])\n",
    "plt.title(companies[1])\n",
    "plt.show()"
   ]
  },
  {
   "cell_type": "code",
   "execution_count": 42,
   "metadata": {},
   "outputs": [
    {
     "name": "stdout",
     "output_type": "stream",
     "text": [
      "0.22282280492160858\n",
      "-0.36267333649274835\n",
      "-0.00035051469499918083\n"
     ]
    }
   ],
   "source": [
    "# Create Normalizer\n",
    "normalizer=Normalizer()\n",
    "new=normalizer.fit_transform(movements)\n",
    "\n",
    "print(new.max())\n",
    "print(new.min())\n",
    "print(new.mean())"
   ]
  },
  {
   "cell_type": "code",
   "execution_count": null,
   "metadata": {},
   "outputs": [],
   "source": [
    "plt.figure(figsize=(18,16))\n",
    "ax1=plt.subplot(221)\n",
    "plt.plot(movements[0][:])\n",
    "plt.title(companies[0])\n",
    "\n",
    "plt.subplot(222,sharey=ax1)\n",
    "plt.plot(movements[1][:])\n",
    "plt.title(companies[1])\n",
    "plt.show()"
   ]
  },
  {
   "cell_type": "code",
   "execution_count": null,
   "metadata": {},
   "outputs": [],
   "source": []
  },
  {
   "cell_type": "code",
   "execution_count": null,
   "metadata": {},
   "outputs": [],
   "source": []
  }
 ],
 "metadata": {
  "kernelspec": {
   "display_name": "Python 3",
   "language": "python",
   "name": "python3"
  },
  "language_info": {
   "codemirror_mode": {
    "name": "ipython",
    "version": 3
   },
   "file_extension": ".py",
   "mimetype": "text/x-python",
   "name": "python",
   "nbconvert_exporter": "python",
   "pygments_lexer": "ipython3",
   "version": "3.7.3"
  }
 },
 "nbformat": 4,
 "nbformat_minor": 2
}
